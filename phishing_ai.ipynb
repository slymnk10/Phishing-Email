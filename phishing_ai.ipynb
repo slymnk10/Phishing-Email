{
  "cells": [
    {
      "cell_type": "markdown",
      "metadata": {
        "id": "view-in-github",
        "colab_type": "text"
      },
      "source": [
        "<a href=\"https://colab.research.google.com/github/slymnk10/Phishing-Email/blob/main/phishing_ai.ipynb\" target=\"_parent\"><img src=\"https://colab.research.google.com/assets/colab-badge.svg\" alt=\"Open In Colab\"/></a>"
      ]
    },
    {
      "cell_type": "markdown",
      "metadata": {
        "id": "lGVpyIUecTp-"
      },
      "source": [
        "#Başlangıç"
      ]
    },
    {
      "cell_type": "code",
      "execution_count": null,
      "metadata": {
        "colab": {
          "base_uri": "https://localhost:8080/"
        },
        "id": "K_lUrf2Vre0b",
        "outputId": "29632b82-365a-41e1-f5ac-5d3d72ab34a0"
      },
      "outputs": [
        {
          "name": "stdout",
          "output_type": "stream",
          "text": [
            "Mounted at /content/drive\n"
          ]
        }
      ],
      "source": [
        "from google.colab import drive\n",
        "drive.mount('/content/drive') # drive klasörünü colab'a bağlıyor"
      ]
    },
    {
      "cell_type": "code",
      "execution_count": null,
      "metadata": {
        "id": "osIfZfuOspof"
      },
      "outputs": [],
      "source": [
        "veri_yolu = '/content/drive/My Drive/Phishing_Email.csv'\n",
        "model_yolu = '/content/drive/My Drive/YapayZeka/phishing_ai.keras' # kaydedilecek model yolu\n"
      ]
    },
    {
      "cell_type": "markdown",
      "metadata": {
        "id": "SrJCK2atcdYG"
      },
      "source": [
        "#Kütüphaneler\n"
      ]
    },
    {
      "cell_type": "code",
      "execution_count": null,
      "metadata": {
        "id": "g01aENyHcon9"
      },
      "outputs": [],
      "source": [
        "import numpy as np\n",
        "import pandas as pd\n",
        "from sklearn.model_selection import train_test_split # Veriyi eğitim ve test olarak bölmek için.\n",
        "\n",
        "# Keras bileşenlerini TensorFlow üzerinden içe aktar\n",
        "from tensorflow.keras.preprocessing.text import Tokenizer # metin verisini sayıya çevirmek için\n",
        "from tensorflow.keras.preprocessing.sequence import pad_sequences\n",
        "from tensorflow.keras.models import Sequential\n",
        "from tensorflow.keras.layers import Embedding, SimpleRNN, Dense # model mimarisi kurmak için\n",
        "from tensorflow.keras.utils import to_categorical\n",
        "\n",
        "import joblib\n",
        "import tensorflow as tf\n"
      ]
    },
    {
      "cell_type": "markdown",
      "metadata": {
        "id": "ddQ3t49hhMGE"
      },
      "source": [
        "#Veri İşlenmesi\n",
        "\n"
      ]
    },
    {
      "cell_type": "code",
      "execution_count": null,
      "metadata": {
        "collapsed": true,
        "id": "ehi5FHDzhRXs"
      },
      "outputs": [],
      "source": [
        "mail_verisi = pd.read_csv(veri_yolu) # veri dosyasını oku\n",
        "mail_verisi = mail_verisi.where((pd.notnull(mail_verisi)), '') # eğer eksik veriler varsa boş string ile doldur\n",
        "\n",
        "mail_verisi.loc[mail_verisi['Email Type']== 'Safe Email' , 'Email Type']= 0 # sınıfları sayısal olarak kullanmak için\n",
        "mail_verisi.loc[mail_verisi['Email Type']== 'Phishing Email' , 'Email Type']= 1\n",
        "\n",
        "X = mail_verisi['Email Text']\n",
        "Y = mail_verisi['Email Type']\n",
        "Y = to_categorical(Y) # softmax için gerekli\n",
        "\n"
      ]
    },
    {
      "cell_type": "markdown",
      "metadata": {
        "id": "XgxmO5fKnRN6"
      },
      "source": [
        "#Tokenizer"
      ]
    },
    {
      "cell_type": "code",
      "execution_count": null,
      "metadata": {
        "collapsed": true,
        "id": "KU1KF5XYnTvB"
      },
      "outputs": [],
      "source": [
        "tokenizer = Tokenizer()\n",
        "tokenizer.fit_on_texts(X) # fonksiyon kelimeleri tanır\n",
        "sequences = tokenizer.texts_to_sequences(X) # fonksiyon her kelimeyi bir sayıya çevirir\n",
        "\n",
        "word_index = tokenizer.word_index\n",
        "max_sequence_length = 100\n",
        "veri = pad_sequences(sequences, maxlen=max_sequence_length) # tüm e postalar 100 kelimelik sabit dizilere dönüştürür"
      ]
    },
    {
      "cell_type": "markdown",
      "metadata": {
        "id": "_OdF5U2L1Xyn"
      },
      "source": [
        "#Test Train Verisi"
      ]
    },
    {
      "cell_type": "code",
      "execution_count": null,
      "metadata": {
        "id": "QQ04zyDW0_TH"
      },
      "outputs": [],
      "source": [
        "X_train,X_test,Y_train,Y_test = train_test_split(veri, Y, test_size=0.2, random_state= 3) # Verinin %80’i eğitim, %20’si test için ayrılır."
      ]
    },
    {
      "cell_type": "markdown",
      "metadata": {
        "id": "Ci7ZwrdH1kFO"
      },
      "source": [
        "#Model Oluşturma"
      ]
    },
    {
      "cell_type": "code",
      "execution_count": null,
      "metadata": {
        "colab": {
          "base_uri": "https://localhost:8080/"
        },
        "id": "JGaWGFw-1mbn",
        "outputId": "7a24a4bf-96cc-4d21-b041-4fdde4b9a655"
      },
      "outputs": [
        {
          "name": "stderr",
          "output_type": "stream",
          "text": [
            "/usr/local/lib/python3.11/dist-packages/keras/src/layers/core/embedding.py:90: UserWarning: Argument `input_length` is deprecated. Just remove it.\n",
            "  warnings.warn(\n"
          ]
        }
      ],
      "source": [
        "model = Sequential()\n",
        "model.add(Embedding(len(word_index) + 1, 128, input_length=max_sequence_length)) # Embedding : Kelimeleri 128 boyutlu vektöre çevirir\n",
        "model.add(SimpleRNN(64)) # SimpleRNN : Zaman serisi gibi metin sırasını işler\n",
        "model.add(Dense(2, activation='softmax')) #Dense : İki sınıfa tahmin yapar (softmax ile)"
      ]
    },
    {
      "cell_type": "markdown",
      "metadata": {
        "id": "Sbjc1xyhH9rh"
      },
      "source": [
        "#Model Derleme"
      ]
    },
    {
      "cell_type": "code",
      "execution_count": null,
      "metadata": {
        "id": "Tn3-dCqwICfa"
      },
      "outputs": [],
      "source": [
        "model.compile(optimizer='adam', loss='categorical_crossentropy', metrics=['accuracy']) # adam : optimizasyon algoritması ,\n",
        "#categorical_crossentropy: çok sınıflı sınıflandırma kaybı\n"
      ]
    },
    {
      "cell_type": "markdown",
      "metadata": {
        "id": "Y5Ycl7NjIdzB"
      },
      "source": [
        "#Eğitim Süreci"
      ]
    },
    {
      "cell_type": "code",
      "execution_count": null,
      "metadata": {
        "colab": {
          "background_save": true,
          "base_uri": "https://localhost:8080/"
        },
        "id": "pj0kjb5IIgwR",
        "outputId": "1db644eb-2a78-4160-ce57-07d07cb7a57d"
      },
      "outputs": [
        {
          "name": "stdout",
          "output_type": "stream",
          "text": [
            "Epoch 1/5\n",
            "\u001b[1m467/467\u001b[0m \u001b[32m━━━━━━━━━━━━━━━━━━━━\u001b[0m\u001b[37m\u001b[0m \u001b[1m177s\u001b[0m 369ms/step - accuracy: 0.7954 - loss: 0.4075 - val_accuracy: 0.9466 - val_loss: 0.1483\n",
            "Epoch 2/5\n",
            "\u001b[1m467/467\u001b[0m \u001b[32m━━━━━━━━━━━━━━━━━━━━\u001b[0m\u001b[37m\u001b[0m \u001b[1m192s\u001b[0m 348ms/step - accuracy: 0.9752 - loss: 0.0571 - val_accuracy: 0.9592 - val_loss: 0.1303\n",
            "Epoch 3/5\n",
            "\u001b[1m467/467\u001b[0m \u001b[32m━━━━━━━━━━━━━━━━━━━━\u001b[0m\u001b[37m\u001b[0m \u001b[1m204s\u001b[0m 353ms/step - accuracy: 0.9845 - loss: 0.0331 - val_accuracy: 0.9450 - val_loss: 0.1568\n",
            "Epoch 4/5\n",
            "\u001b[1m467/467\u001b[0m \u001b[32m━━━━━━━━━━━━━━━━━━━━\u001b[0m\u001b[37m\u001b[0m \u001b[1m214s\u001b[0m 378ms/step - accuracy: 0.9856 - loss: 0.0249 - val_accuracy: 0.9091 - val_loss: 0.2499\n",
            "Epoch 5/5\n",
            "\u001b[1m467/467\u001b[0m \u001b[32m━━━━━━━━━━━━━━━━━━━━\u001b[0m\u001b[37m\u001b[0m \u001b[1m189s\u001b[0m 351ms/step - accuracy: 0.9887 - loss: 0.0235 - val_accuracy: 0.9550 - val_loss: 0.1672\n"
          ]
        },
        {
          "data": {
            "text/plain": [
              "<keras.src.callbacks.history.History at 0x7d30e3bb27d0>"
            ]
          },
          "execution_count": 9,
          "metadata": {},
          "output_type": "execute_result"
        }
      ],
      "source": [
        "model.fit(X_train, Y_train, epochs=5, batch_size=32, validation_data=(X_test, Y_test))\n",
        "#epochs=5: verilerle 5 kez eğitim\n",
        "#batch_size=32: her adımda 32 örnekle öğrenir"
      ]
    },
    {
      "cell_type": "markdown",
      "metadata": {
        "id": "npvxA34XLtgo"
      },
      "source": [
        "#Model Kayıt"
      ]
    },
    {
      "cell_type": "code",
      "execution_count": null,
      "metadata": {
        "id": "9SHLvbobLwKJ"
      },
      "outputs": [],
      "source": [
        "import os\n",
        "os.makedirs(os.path.dirname(model_yolu), exist_ok=True)\n",
        "\n",
        "model.save(model_yolu)\n",
        "#Eğitilen modeli .keras dosyası olarak Google Drive’a kaydeder"
      ]
    },
    {
      "cell_type": "markdown",
      "metadata": {
        "id": "8nVO1CoVdPIz"
      },
      "source": [
        "#Model Değerlendirme"
      ]
    },
    {
      "cell_type": "code",
      "execution_count": null,
      "metadata": {
        "colab": {
          "base_uri": "https://localhost:8080/"
        },
        "id": "pNkYLHmMdRXE",
        "outputId": "73b9deb0-be9c-4cc5-95cb-805917a56b77"
      },
      "outputs": [
        {
          "name": "stdout",
          "output_type": "stream",
          "text": [
            "\u001b[1m117/117\u001b[0m \u001b[32m━━━━━━━━━━━━━━━━━━━━\u001b[0m\u001b[37m\u001b[0m \u001b[1m1s\u001b[0m 9ms/step - accuracy: 0.9555 - loss: 0.1390\n",
            "Test verilerin doğruluğu :  0.9530830979347229\n"
          ]
        }
      ],
      "source": [
        "loss, accuracy = model.evaluate(X_test, Y_test)\n",
        "print(\"Test verilerin doğruluğu : \" , accuracy)\n",
        "#Test verileriyle başarı oranını ölçer"
      ]
    },
    {
      "cell_type": "markdown",
      "metadata": {
        "id": "BRIgYoeXjkey"
      },
      "source": [
        "#Gerçek Zamanlı Test"
      ]
    },
    {
      "cell_type": "markdown",
      "metadata": {
        "id": "PdXovZinjyLp"
      },
      "source": [
        "#Model Yüklenmesi"
      ]
    },
    {
      "cell_type": "code",
      "execution_count": null,
      "metadata": {
        "id": "ynwvBewAjnO6"
      },
      "outputs": [],
      "source": [
        "model = tf.keras.models.load_model(model_yolu)"
      ]
    },
    {
      "cell_type": "markdown",
      "metadata": {
        "id": "4tgm7ujNkKSR"
      },
      "source": [
        "#Test Aşaması"
      ]
    },
    {
      "cell_type": "code",
      "execution_count": null,
      "metadata": {
        "colab": {
          "base_uri": "https://localhost:8080/",
          "height": 356
        },
        "collapsed": true,
        "id": "BlUkXsJEkMIr",
        "outputId": "48ffb2da-d1a0-4c39-9002-20a407ba1789"
      },
      "outputs": [
        {
          "ename": "KeyboardInterrupt",
          "evalue": "Interrupted by user",
          "output_type": "error",
          "traceback": [
            "\u001b[0;31m---------------------------------------------------------------------------\u001b[0m",
            "\u001b[0;31mKeyboardInterrupt\u001b[0m                         Traceback (most recent call last)",
            "\u001b[0;32m<ipython-input-2-f66d23a33d3a>\u001b[0m in \u001b[0;36m<cell line: 0>\u001b[0;34m()\u001b[0m\n\u001b[1;32m      1\u001b[0m \u001b[0;32mwhile\u001b[0m \u001b[0;32mTrue\u001b[0m\u001b[0;34m:\u001b[0m\u001b[0;34m\u001b[0m\u001b[0;34m\u001b[0m\u001b[0m\n\u001b[0;32m----> 2\u001b[0;31m   \u001b[0minput_mail\u001b[0m \u001b[0;34m=\u001b[0m \u001b[0minput\u001b[0m\u001b[0;34m(\u001b[0m\u001b[0;34m\"E - posta mesajını giriniz : \"\u001b[0m\u001b[0;34m)\u001b[0m\u001b[0;34m\u001b[0m\u001b[0;34m\u001b[0m\u001b[0m\n\u001b[0m\u001b[1;32m      3\u001b[0m   \u001b[0minput_sequence\u001b[0m \u001b[0;34m=\u001b[0m \u001b[0mtokenizer\u001b[0m\u001b[0;34m.\u001b[0m\u001b[0mtexts_to_sequences\u001b[0m\u001b[0;34m(\u001b[0m\u001b[0;34m[\u001b[0m\u001b[0minput_mail\u001b[0m\u001b[0;34m]\u001b[0m\u001b[0;34m)\u001b[0m\u001b[0;34m\u001b[0m\u001b[0;34m\u001b[0m\u001b[0m\n\u001b[1;32m      4\u001b[0m   \u001b[0minput_data\u001b[0m \u001b[0;34m=\u001b[0m \u001b[0mpad_sequences\u001b[0m\u001b[0;34m(\u001b[0m\u001b[0minput_sequence\u001b[0m\u001b[0;34m,\u001b[0m \u001b[0mmaxlen\u001b[0m\u001b[0;34m=\u001b[0m\u001b[0mmax_sequence_length\u001b[0m\u001b[0;34m)\u001b[0m\u001b[0;34m\u001b[0m\u001b[0;34m\u001b[0m\u001b[0m\n\u001b[1;32m      5\u001b[0m   \u001b[0mtahmin\u001b[0m \u001b[0;34m=\u001b[0m \u001b[0mmodel\u001b[0m\u001b[0;34m.\u001b[0m\u001b[0mpredict\u001b[0m\u001b[0;34m(\u001b[0m\u001b[0minput_data\u001b[0m\u001b[0;34m)\u001b[0m\u001b[0;34m\u001b[0m\u001b[0;34m\u001b[0m\u001b[0m\n",
            "\u001b[0;32m/usr/local/lib/python3.11/dist-packages/ipykernel/kernelbase.py\u001b[0m in \u001b[0;36mraw_input\u001b[0;34m(self, prompt)\u001b[0m\n\u001b[1;32m   1175\u001b[0m                 \u001b[0;34m\"raw_input was called, but this frontend does not support input requests.\"\u001b[0m\u001b[0;34m\u001b[0m\u001b[0;34m\u001b[0m\u001b[0m\n\u001b[1;32m   1176\u001b[0m             )\n\u001b[0;32m-> 1177\u001b[0;31m         return self._input_request(\n\u001b[0m\u001b[1;32m   1178\u001b[0m             \u001b[0mstr\u001b[0m\u001b[0;34m(\u001b[0m\u001b[0mprompt\u001b[0m\u001b[0;34m)\u001b[0m\u001b[0;34m,\u001b[0m\u001b[0;34m\u001b[0m\u001b[0;34m\u001b[0m\u001b[0m\n\u001b[1;32m   1179\u001b[0m             \u001b[0mself\u001b[0m\u001b[0;34m.\u001b[0m\u001b[0m_parent_ident\u001b[0m\u001b[0;34m[\u001b[0m\u001b[0;34m\"shell\"\u001b[0m\u001b[0;34m]\u001b[0m\u001b[0;34m,\u001b[0m\u001b[0;34m\u001b[0m\u001b[0;34m\u001b[0m\u001b[0m\n",
            "\u001b[0;32m/usr/local/lib/python3.11/dist-packages/ipykernel/kernelbase.py\u001b[0m in \u001b[0;36m_input_request\u001b[0;34m(self, prompt, ident, parent, password)\u001b[0m\n\u001b[1;32m   1217\u001b[0m             \u001b[0;32mexcept\u001b[0m \u001b[0mKeyboardInterrupt\u001b[0m\u001b[0;34m:\u001b[0m\u001b[0;34m\u001b[0m\u001b[0;34m\u001b[0m\u001b[0m\n\u001b[1;32m   1218\u001b[0m                 \u001b[0;31m# re-raise KeyboardInterrupt, to truncate traceback\u001b[0m\u001b[0;34m\u001b[0m\u001b[0;34m\u001b[0m\u001b[0m\n\u001b[0;32m-> 1219\u001b[0;31m                 \u001b[0;32mraise\u001b[0m \u001b[0mKeyboardInterrupt\u001b[0m\u001b[0;34m(\u001b[0m\u001b[0;34m\"Interrupted by user\"\u001b[0m\u001b[0;34m)\u001b[0m \u001b[0;32mfrom\u001b[0m \u001b[0;32mNone\u001b[0m\u001b[0;34m\u001b[0m\u001b[0;34m\u001b[0m\u001b[0m\n\u001b[0m\u001b[1;32m   1220\u001b[0m             \u001b[0;32mexcept\u001b[0m \u001b[0mException\u001b[0m\u001b[0;34m:\u001b[0m\u001b[0;34m\u001b[0m\u001b[0;34m\u001b[0m\u001b[0m\n\u001b[1;32m   1221\u001b[0m                 \u001b[0mself\u001b[0m\u001b[0;34m.\u001b[0m\u001b[0mlog\u001b[0m\u001b[0;34m.\u001b[0m\u001b[0mwarning\u001b[0m\u001b[0;34m(\u001b[0m\u001b[0;34m\"Invalid Message:\"\u001b[0m\u001b[0;34m,\u001b[0m \u001b[0mexc_info\u001b[0m\u001b[0;34m=\u001b[0m\u001b[0;32mTrue\u001b[0m\u001b[0;34m)\u001b[0m\u001b[0;34m\u001b[0m\u001b[0;34m\u001b[0m\u001b[0m\n",
            "\u001b[0;31mKeyboardInterrupt\u001b[0m: Interrupted by user"
          ]
        }
      ],
      "source": [
        "while True:\n",
        "  input_mail = input(\"E - posta mesajını giriniz : \")\n",
        "  input_sequence = tokenizer.texts_to_sequences([input_mail])\n",
        "  input_data = pad_sequences(input_sequence, maxlen=max_sequence_length)\n",
        "  tahmin = model.predict(input_data)\n",
        "\n",
        "  if np.argmax(tahmin) == 1:\n",
        "    print(\"Bu bir kimlik avı e-postası olabilir.\")\n",
        "  else:\n",
        "    print(\"Bu güvenli bir e-postadır.\")\n",
        "  oran = tahmin[0][np.argmax(tahmin)]\n",
        "  print(\"Eminlik oranı : \",oran)\n"
      ]
    }
  ],
  "metadata": {
    "colab": {
      "provenance": [],
      "authorship_tag": "ABX9TyMUWYWJSYqKu//q7d51KQ4O",
      "include_colab_link": true
    },
    "kernelspec": {
      "display_name": "Python 3",
      "name": "python3"
    },
    "language_info": {
      "name": "python"
    }
  },
  "nbformat": 4,
  "nbformat_minor": 0
}